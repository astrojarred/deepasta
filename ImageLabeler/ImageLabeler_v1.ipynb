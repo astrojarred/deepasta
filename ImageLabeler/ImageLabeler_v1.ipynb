{
 "cells": [
  {
   "cell_type": "markdown",
   "metadata": {},
   "source": [
    "# Pasta Image Labeler\n",
    "\n",
    "The purpose of this code is to quickly accept / reject training images by eye. Will only work on MacOS.\n",
    "\n",
    "Goal: \n",
    "- open a preview of an image\n",
    "- press enter to accept -- leaving the image in place\n",
    "- press any other key -- moving the image to a \"reject\" folder"
   ]
  },
  {
   "cell_type": "code",
   "execution_count": 1,
   "metadata": {},
   "outputs": [],
   "source": [
    "# imports\n",
    "import numpy as np\n",
    "import subprocess as sp\n",
    "from os import path\n",
    "import getch"
   ]
  },
  {
   "cell_type": "markdown",
   "metadata": {},
   "source": [
    "## open a single test image"
   ]
  },
  {
   "cell_type": "code",
   "execution_count": 2,
   "metadata": {},
   "outputs": [],
   "source": [
    "test_image_path = '/Users/jarredgreen/Downloads/instalooter/carbonara/2081350632616431848.jpg'\n",
    "image_name = path.basename(test_image_path)"
   ]
  },
  {
   "cell_type": "code",
   "execution_count": 3,
   "metadata": {},
   "outputs": [
    {
     "name": "stdin",
     "output_type": "stream",
     "text": [
      "2081350632616431848.jpg ? \n"
     ]
    },
    {
     "name": "stdout",
     "output_type": "stream",
     "text": [
      "YES: the image 2081350632616431848.jpg is accepted\n"
     ]
    }
   ],
   "source": [
    "with sp.Popen([\"qlmanage\", \"-p\", test_image_path]) as pp:\n",
    "    x = input(\"%s ?\" % image_name)\n",
    "    if x == '':\n",
    "        print(\"YES: the image %s is accepted\" % image_name)\n",
    "    else:\n",
    "        print(\"NO : the image %s is rejected\" % image_name)\n",
    "\n",
    "    # then close the image with:    \n",
    "    pp.terminate()"
   ]
  },
  {
   "cell_type": "markdown",
   "metadata": {},
   "source": [
    "## try with Getch\n",
    "\n",
    "This works better!!"
   ]
  },
  {
   "cell_type": "code",
   "execution_count": null,
   "metadata": {},
   "outputs": [],
   "source": []
  }
 ],
 "metadata": {
  "kernelspec": {
   "display_name": "Python [conda env:cs231n]",
   "language": "python",
   "name": "conda-env-cs231n-py"
  },
  "language_info": {
   "codemirror_mode": {
    "name": "ipython",
    "version": 3
   },
   "file_extension": ".py",
   "mimetype": "text/x-python",
   "name": "python",
   "nbconvert_exporter": "python",
   "pygments_lexer": "ipython3",
   "version": "3.7.3"
  }
 },
 "nbformat": 4,
 "nbformat_minor": 2
}
